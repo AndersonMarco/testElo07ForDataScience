version https://git-lfs.github.com/spec/v1
oid sha256:47515287d1ea6eb62971cf308a57fd06a1b6d5a3b3e6b6bcb7771c46119070db
size 683727
