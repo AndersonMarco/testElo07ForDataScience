version https://git-lfs.github.com/spec/v1
oid sha256:3abe066fc66fcffec293e480c1c6352b2be47b0b82bb5cf4214bdc309671fcec
size 703338
