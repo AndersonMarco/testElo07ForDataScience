version https://git-lfs.github.com/spec/v1
oid sha256:0ba0f711ba20451af2aaf0c265acdd21690c9a281ddd4b9f30bfb947e7deca1b
size 149357
