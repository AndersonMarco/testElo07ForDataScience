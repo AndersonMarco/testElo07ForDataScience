version https://git-lfs.github.com/spec/v1
oid sha256:4de68244cba29a1477bc1615c4f5b2d82df2ec9e0e607fb3bd4dcaf71b093ea9
size 121025
